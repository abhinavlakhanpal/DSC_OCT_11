{
  "nbformat": 4,
  "nbformat_minor": 0,
  "metadata": {
    "colab": {
      "name": "int_assignment.ipynb",
      "provenance": []
    },
    "kernelspec": {
      "name": "python3",
      "display_name": "Python 3"
    }
  },
  "cells": [
    {
      "cell_type": "code",
      "metadata": {
        "id": "8A5Jw5NR1iEI",
        "outputId": "bbcb6840-ca0b-45d3-8eaf-c534a61d4ba2",
        "colab": {
          "base_uri": "https://localhost:8080/"
        }
      },
      "source": [
        "#Declare an int value and store it in a variable. \n",
        "\n",
        "a = 30 \n",
        "\n",
        "\n",
        "#Check the type and print the id of the same.\n",
        "print(type(a))\n",
        "print(id(a))\n",
        "\n"
      ],
      "execution_count": 1,
      "outputs": [
        {
          "output_type": "stream",
          "text": [
            "<class 'int'>\n",
            "10915424\n"
          ],
          "name": "stdout"
        }
      ]
    },
    {
      "cell_type": "code",
      "metadata": {
        "id": "0YU8LFTn1rAX",
        "outputId": "4fbc28d7-8df2-49e0-89d7-9986ead0f469",
        "colab": {
          "base_uri": "https://localhost:8080/"
        }
      },
      "source": [
        "#Take one int value between 0 - 256.\n",
        "#Assign it to two different variables.\n",
        "#Check the id of both the variables. It should come same. Check why?\n",
        "\n",
        "a = 50\n",
        "b = 50\n",
        "print(id(a))\n",
        "print(id(b))\n",
        "\n",
        "#Take one int value either less than -5 or greater than 256.\n",
        "#Assign it to two different variables.\n",
        "#Check the id of both the variables. It should come different.Check why?\n",
        "\n",
        "a = 55\n",
        "print(id(a))\n",
        "print(id(b))\n"
      ],
      "execution_count": 2,
      "outputs": [
        {
          "output_type": "stream",
          "text": [
            "10916064\n",
            "10916064\n",
            "10916224\n",
            "10916064\n"
          ],
          "name": "stdout"
        }
      ]
    },
    {
      "cell_type": "code",
      "metadata": {
        "id": "YzEIG0ZZ1tSK",
        "outputId": "2915de22-98dd-44b8-ab4c-ec980849f686",
        "colab": {
          "base_uri": "https://localhost:8080/"
        }
      },
      "source": [
        "#Arithmatic Operations on integers\n",
        "#Take two different intger values.\n",
        "a = 50\n",
        "b = 6\n",
        "\n",
        "#Store them in two different variables.\n",
        "#Do below operations on them:-\n",
        "    #Find sum of both numbers\n",
        "print(a + b)\n",
        "\n",
        "\n",
        "    #Find differce between them\n",
        "print(a - b)    \n",
        "    #Find the product of both numbers.\n",
        "print(a * b)\n",
        "    #Find value after dividing first num with second number\n",
        "print(a / b)    \n",
        "    #Find the remainder after dividing first number with second number\n",
        "print(a % b)    \n",
        "    #Find the quotient after dividing first number with second number\n",
        "print(a // b)    \n",
        "    #Find the result of first num to the power of second number.\n",
        "print(a ** b)    "
      ],
      "execution_count": 3,
      "outputs": [
        {
          "output_type": "stream",
          "text": [
            "56\n",
            "44\n",
            "300\n",
            "8.333333333333334\n",
            "2\n",
            "8\n",
            "15625000000\n"
          ],
          "name": "stdout"
        }
      ]
    },
    {
      "cell_type": "code",
      "metadata": {
        "id": "GGM7CdzA1wGn",
        "outputId": "ce241677-60d0-4ffe-feb6-12cbba0a7a53",
        "colab": {
          "base_uri": "https://localhost:8080/"
        }
      },
      "source": [
        "#Comparison Operators on integers\n",
        "#Take two different intger values.\n",
        "a = 50\n",
        "b = 6\n",
        "#Store them in two different variables.\n",
        "#Do below operations on them:-\n",
        "    #Compare se two numbers with below operator:-\n",
        "        #Greater than, '>'\n",
        "print(a > b)        \n",
        "        #Smaller than, '<'\n",
        "print(a < b)        \n",
        "        #Greater than or equal to, '>='\n",
        "print(a >= b)        \n",
        "        #Less than or equal to, '<='\n",
        "print(a <= b)        \n",
        "#Observe their output(return type should be boolean)"
      ],
      "execution_count": 4,
      "outputs": [
        {
          "output_type": "stream",
          "text": [
            "True\n",
            "False\n",
            "True\n",
            "False\n"
          ],
          "name": "stdout"
        }
      ]
    },
    {
      "cell_type": "code",
      "metadata": {
        "id": "9x904sUE1y9t",
        "outputId": "df90de3e-d485-4a9b-f6dd-92f6bdbc27b5",
        "colab": {
          "base_uri": "https://localhost:8080/"
        }
      },
      "source": [
        "#Equality Operator\n",
        "#Take two different intger values.\n",
        "#Store them in two different variables.\n",
        "a = 50\n",
        "b = 6\n",
        "#Equuate them using equality operator (==, !=)\n",
        "print(a == b)        \n",
        "#Observe the output(return type should be boolean)\n",
        "print(a != b)"
      ],
      "execution_count": 5,
      "outputs": [
        {
          "output_type": "stream",
          "text": [
            "False\n",
            "True\n"
          ],
          "name": "stdout"
        }
      ]
    },
    {
      "cell_type": "code",
      "metadata": {
        "id": "JmQFHUwc11S-",
        "outputId": "4507d061-c4c9-4d5c-e168-13b13dd69e84",
        "colab": {
          "base_uri": "https://localhost:8080/"
        }
      },
      "source": [
        "#Logical operators\n",
        "#Observe the output of below code\n",
        "#Cross check the output manually\n",
        "\n",
        "print(10 and 20)       #----------------------------------------->Output is 20\n",
        "print(0 and 20)        #----------------------------------------->Output is 0\n",
        "print(20 and 0)        #----------------------------------------->Output is 0\n",
        "print(0 and 0)         #----------------------------------------->Output is 0\n",
        "\n",
        "print(10 or 20)        #----------------------------------------->Output is 10\n",
        "print(0 or 20)         #----------------------------------------->Output is 20\n",
        "print(20 or 0)         #----------------------------------------->Output is 20\n",
        "print(0 or 0)          #----------------------------------------->Output is 0\n",
        "\n",
        "print(not 10)          #----------------------------------------->Output is False\n",
        "print(not 0)           #----------------------------------------->Output is True"
      ],
      "execution_count": 6,
      "outputs": [
        {
          "output_type": "stream",
          "text": [
            "20\n",
            "0\n",
            "0\n",
            "0\n",
            "10\n",
            "20\n",
            "20\n",
            "0\n",
            "False\n",
            "True\n"
          ],
          "name": "stdout"
        }
      ]
    },
    {
      "cell_type": "code",
      "metadata": {
        "id": "-0tvoulX14Hi",
        "outputId": "63456637-c3c9-4d1e-a3bd-5557f2466a89",
        "colab": {
          "base_uri": "https://localhost:8080/"
        }
      },
      "source": [
        "#Bitwise Operators\n",
        "#Do below operations on the values provided below:-\n",
        "    #Bitwise and(&) -----------------------------------------> 10, 20   -------> Output is 0\n",
        "    #Bitwise or(|)  -----------------------------------------> 10, 20   -------> Output is 30\n",
        "    #Bitwise(^)     -----------------------------------------> 10, 20   -------> Output is 30\n",
        "    #Bitwise negation(~) ------------------------------------> 10       -------> Output is -11\n",
        "    #Bitwise left shift  ------------------------------------> 10,2     -------> Output is 40\n",
        "    #Bitwise right shift ------------------------------------> 10,2     -------> Output is 2\n",
        "#Cross check the output manually\n",
        "a = 10\n",
        "b = 20\n",
        "\n",
        "print(a & b)\n",
        "print(a | b)\n",
        "print(~a)\n",
        "print(a << 2)\n",
        "print(a >> 2)"
      ],
      "execution_count": 10,
      "outputs": [
        {
          "output_type": "stream",
          "text": [
            "0\n",
            "30\n",
            "-11\n",
            "40\n",
            "2\n"
          ],
          "name": "stdout"
        }
      ]
    },
    {
      "cell_type": "code",
      "metadata": {
        "id": "YCcx-Qx016hg",
        "outputId": "f77860c4-7a19-42f1-e549-fff53f2556e6",
        "colab": {
          "base_uri": "https://localhost:8080/"
        }
      },
      "source": [
        "#What is the output of expression inside print statement. Cross check before running the program.\n",
        "a = 10\n",
        "b = 10\n",
        "print(a is b)          #True or False?\n",
        "print(a is not b)      #True or False?\n",
        "\n",
        "a = 1000\n",
        "b = 1000\n",
        "print(a is b)          #True or False?\n",
        "print(a is not b)      #True or False?"
      ],
      "execution_count": 11,
      "outputs": [
        {
          "output_type": "stream",
          "text": [
            "True\n",
            "False\n",
            "False\n",
            "True\n"
          ],
          "name": "stdout"
        }
      ]
    },
    {
      "cell_type": "code",
      "metadata": {
        "id": "Un2To3XN1_Il",
        "outputId": "b1f7b995-6bcf-4c07-8570-1319d30e8d07",
        "colab": {
          "base_uri": "https://localhost:8080/"
        }
      },
      "source": [
        "#What is the output of expression inside print statement. Cross check before running the program.\n",
        "print(10+(10*32)//2**5&20+(~(-10))<<2)\n"
      ],
      "execution_count": 15,
      "outputs": [
        {
          "output_type": "stream",
          "text": [
            "20\n"
          ],
          "name": "stdout"
        }
      ]
    },
    {
      "cell_type": "code",
      "metadata": {
        "id": "kGRb5RMd1_1I",
        "outputId": "5d1e0bfd-8afa-411f-adc9-3be949129927",
        "colab": {
          "base_uri": "https://localhost:8080/"
        }
      },
      "source": [
        "#Membership operation\n",
        "#in, not in are two membership operators and it returns boolean value\n",
        "\n",
        "print('2' in 'Python2.7.8')\n",
        "print(10 in [10,10.20,10+20j,'Python'])\n",
        "print(10 in (10,10.20,10+20j,'Python'))\n",
        "print(2 in {1,2,3})\n",
        "print(3 in {1:100, 2:200, 3:300})\n",
        "print(10 in range(20))"
      ],
      "execution_count": 18,
      "outputs": [
        {
          "output_type": "stream",
          "text": [
            "True\n",
            "True\n",
            "True\n",
            "True\n",
            "True\n",
            "True\n"
          ],
          "name": "stdout"
        }
      ]
    },
    {
      "cell_type": "code",
      "metadata": {
        "id": "Es7iSvL92B9W"
      },
      "source": [
        "#An integer can be represented in binary, octal or hexadecimal form.\n",
        "#Declare one binary, one octal and one hexadecimal value and store them in three different variables.\n",
        "#Convert 9876 to its binary, octal and hexadecimal equivalent and print their corresponding value."
      ],
      "execution_count": null,
      "outputs": []
    },
    {
      "cell_type": "code",
      "metadata": {
        "id": "Hm0r03lH2E0i",
        "outputId": "399acadf-2e8e-4cf1-c1ea-f7e644aaef1c",
        "colab": {
          "base_uri": "https://localhost:8080/"
        }
      },
      "source": [
        "#What will be the outut of following:-\n",
        "a = 0b1010000\n",
        "print(a)\n",
        "\n",
        "b = 0o7436\n",
        "print(b)\n",
        "\n",
        "c = 0xfade\n",
        "print(c)\n",
        "\n",
        "print(bin(80))\n",
        "\n",
        "print(oct(3870))\n",
        "\n",
        "print(hex(64222))\n",
        "\n",
        "print(bin(0b1010000))\n",
        "\n",
        "print(bin(0xfade))\n",
        "\n",
        "print(oct(0xfade))\n",
        "\n",
        "print(oct(0o7436))\n",
        "\n",
        "print(hex(0b1010000))\n",
        "\n",
        "print(hex(0xfade))"
      ],
      "execution_count": 19,
      "outputs": [
        {
          "output_type": "stream",
          "text": [
            "80\n",
            "3870\n",
            "64222\n",
            "0b1010000\n",
            "0o7436\n",
            "0xfade\n",
            "0b1010000\n",
            "0b1111101011011110\n",
            "0o175336\n",
            "0o7436\n",
            "0x50\n",
            "0xfade\n"
          ],
          "name": "stdout"
        }
      ]
    }
  ]
}