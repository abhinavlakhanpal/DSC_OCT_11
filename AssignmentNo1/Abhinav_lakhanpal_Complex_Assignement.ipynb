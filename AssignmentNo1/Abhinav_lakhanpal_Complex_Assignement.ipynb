{
  "nbformat": 4,
  "nbformat_minor": 0,
  "metadata": {
    "colab": {
      "name": "Complex_Assignement.ipynb",
      "provenance": []
    },
    "kernelspec": {
      "name": "python3",
      "display_name": "Python 3"
    }
  },
  "cells": [
    {
      "cell_type": "code",
      "metadata": {
        "id": "JoMbQLjK3uHZ",
        "outputId": "2cc18972-4ec6-4488-851b-a8f64156b567",
        "colab": {
          "base_uri": "https://localhost:8080/"
        }
      },
      "source": [
        "#Declare a complex number and store it in a variable. \n",
        "\n",
        "a = 10 + 10j\n",
        "\n",
        "#Check the type and print the id of the same.\n",
        "\n",
        "print(type(a))\n",
        "print(id(a))\n",
        "\n"
      ],
      "execution_count": 1,
      "outputs": [
        {
          "output_type": "stream",
          "text": [
            "<class 'complex'>\n",
            "140131805199472\n"
          ],
          "name": "stdout"
        }
      ]
    },
    {
      "cell_type": "code",
      "metadata": {
        "id": "6N6Ee4BU33jk",
        "outputId": "781f091b-2d8d-4fb9-9d7d-0ad921533ffb",
        "colab": {
          "base_uri": "https://localhost:8080/"
        }
      },
      "source": [
        "#Arithmatic Operations on complex number\n",
        "#Take two different complex number.\n",
        "#Store them in two different variables.\n",
        "#Do below operations on them:-\n",
        "    #Find sum of both numbers\n",
        "    #Find differce between them\n",
        "    #Find the product of both numbers.\n",
        "    #Find value after dividing first num with second number\n",
        "    #Find the result of first num to the power of second number.\n",
        "\n",
        "a = 10 + 10j\n",
        "b = 20 + 50j \n",
        "\n",
        "print(a-b)\n",
        "print(a * b)\n",
        "print(a / b)\n",
        "print(a ** b)"
      ],
      "execution_count": 3,
      "outputs": [
        {
          "output_type": "stream",
          "text": [
            "(-10-40j)\n",
            "(-300+700j)\n",
            "(0.2413793103448276-0.10344827586206896j)\n",
            "(-787460.9844301769-441551.7963470369j)\n"
          ],
          "name": "stdout"
        }
      ]
    },
    {
      "cell_type": "code",
      "metadata": {
        "id": "xhkdg7LD352y"
      },
      "source": [
        "#Comparison Operation not applicable between instance of complex values\n",
        "#Object reusability concept is not applicable on complex numebr\n",
        "\n"
      ],
      "execution_count": null,
      "outputs": []
    },
    {
      "cell_type": "code",
      "metadata": {
        "id": "4lzPH2sb38KM",
        "outputId": "ee8197b2-aa2f-4f00-ef5f-9a8b130fca46",
        "colab": {
          "base_uri": "https://localhost:8080/"
        }
      },
      "source": [
        "#Equality Operator\n",
        "#Take two different complex numbers.\n",
        "#Store them in two different variables.\n",
        "#Equuate them using equality operator (==, !=)\n",
        "#Observe the output(return type should be boolean)\n",
        "\n",
        "a = 10 + 10j\n",
        "b = 20 + 50j \n",
        "\n",
        "print( a == b)\n",
        "print ( a != b)\n",
        "\n",
        "\n",
        "\n",
        "\n"
      ],
      "execution_count": 5,
      "outputs": [
        {
          "output_type": "stream",
          "text": [
            "False\n",
            "True\n"
          ],
          "name": "stdout"
        }
      ]
    },
    {
      "cell_type": "code",
      "metadata": {
        "id": "EDEl19UD3_tr",
        "outputId": "9eba03e0-ee8f-4f2f-c2b6-10dc13b838d8",
        "colab": {
          "base_uri": "https://localhost:8080/"
        }
      },
      "source": [
        "#Logical operators\n",
        "#Observe the output of below code\n",
        "#Cross check the output manually\n",
        "\n",
        "print(10+20j and 20+30j)    #20+30j    #----------------------------------------->Output is 20+30j\n",
        "print(0+0j and 20+30j)      #0+0j    #----------------------------------------->Output is 0j\n",
        "print(20+30j and 0+0j)      #0+0j   #----------------------------------------->Output is 0j\n",
        "print(0+0j and 0+0j)        #0+0j   #----------------------------------------->Output is 0j\n",
        "\n",
        "print(10+20j or 20+30j)     #10+20j   #----------------------------------------->Output is 10+20j\n",
        "print(0+0j or 20+30j)       #20+30j   #----------------------------------------->Output is 20+30j\n",
        "print(20+30j or 0+0j)       #20+30j  #----------------------------------------->Output is 20+30j\n",
        "print(0+0j or 0+0j)         #0+0j   #----------------------------------------->Output is 0j\n",
        "\n",
        "print(not 10+20j)           #False   #----------------------------------------->Output is False\n",
        "print(not 0+0j)             #True   #----------------------------------------->Output is True"
      ],
      "execution_count": 6,
      "outputs": [
        {
          "output_type": "stream",
          "text": [
            "(20+30j)\n",
            "0j\n",
            "0j\n",
            "0j\n",
            "(10+20j)\n",
            "(20+30j)\n",
            "(20+30j)\n",
            "0j\n",
            "False\n",
            "True\n"
          ],
          "name": "stdout"
        }
      ]
    },
    {
      "cell_type": "code",
      "metadata": {
        "id": "4ifueKbP4Br1",
        "outputId": "3cbb2f64-610b-46fd-9984-e2aa5b1a8233",
        "colab": {
          "base_uri": "https://localhost:8080/"
        }
      },
      "source": [
        "#What is the output of expression inside print statement. Cross check before running the program.\n",
        "a = 10+20j\n",
        "b = 10+20j\n",
        "print(a is b)       #False   #True or False?\n",
        "print(a is not b)   #True   #True or False?\n"
      ],
      "execution_count": 7,
      "outputs": [
        {
          "output_type": "stream",
          "text": [
            "False\n",
            "True\n"
          ],
          "name": "stdout"
        }
      ]
    },
    {
      "cell_type": "code",
      "metadata": {
        "id": "TxMbr5jQ4Dwl",
        "outputId": "f1189b8b-3697-4ee4-de40-3cbbfa6d4048",
        "colab": {
          "base_uri": "https://localhost:8080/"
        }
      },
      "source": [
        "#Membership operation\n",
        "#in, not in are two membership operators and it returns boolean value\n",
        "\n",
        "print('2.7' in 'Python2.7.8')                      #True\n",
        "print(10+20j in [10,10.20,10+20j,'Python'])        #True\n",
        "print(10+20j in (10,10.20,10+20j,'Python'))        #True\n",
        "print(30+40j in {1,20.30,30+40j})                  #True\n",
        "print(30+40j in {1:100, 2.3:200, 30+40j:300})      #True\n",
        "print(10 in range(20))                             #True"
      ],
      "execution_count": 8,
      "outputs": [
        {
          "output_type": "stream",
          "text": [
            "True\n",
            "True\n",
            "True\n",
            "True\n",
            "True\n",
            "True\n"
          ],
          "name": "stdout"
        }
      ]
    }
  ]
}